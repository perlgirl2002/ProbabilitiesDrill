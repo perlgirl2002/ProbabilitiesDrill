{
 "cells": [
  {
   "cell_type": "code",
   "execution_count": 1,
   "metadata": {
    "collapsed": true
   },
   "outputs": [],
   "source": [
    "Bayes "
   ]
  },
  {
   "cell_type": "markdown",
   "metadata": {},
   "source": [
    "P(Infected| Positive Test) = P(Positive Test| Infected) * P(Infected) / P(Positive Test)\n",
    "\n",
    "A diagnostic test has a 98% probability of giving a positive result when applied to a person suffering from Thripshaw's Disease, and 10% probability of giving a (false) positive when applied to a non-sufferer. It is estimated that 0.5 % of the population are sufferers. Suppose that the test is now administered to a person whose disease status is unknown. Calculate the probability that the test will:\n",
    "\n",
    "Be positive .1044\n",
    "Correctly diagnose a sufferer of Thripshaw's .98\n",
    "Correctly identify a non-sufferer of Thripshaw's .9 \n",
    "Misclassify the person 1-.98 + .1 = .12"
   ]
  },
  {
   "cell_type": "markdown",
   "metadata": {},
   "source": [
    "So out of 1,000 people, only 5 would have it, and out of 100 tests, 98 would be right IF the person had it.  And the test is 10% likely to be wrong if the person Doesn't have it.\n",
    "\n",
    "P(B) = [P(B|A) x P(A)] + [P(B|~A) x P(~A)] \n",
    "\n",
    "= .98 * .005 + .1 * .995 = .1044\n",
    "\n",
    "Misclassify = 1-(.98 * .005 + .9 * .005) = .0996\n",
    "\n",
    "\n",
    "\n",
    "\n",
    " \n",
    " \n",
    " \n"
   ]
  }
 ],
 "metadata": {
  "kernelspec": {
   "display_name": "Python 3",
   "language": "python",
   "name": "python3"
  },
  "language_info": {
   "codemirror_mode": {
    "name": "ipython",
    "version": 3
   },
   "file_extension": ".py",
   "mimetype": "text/x-python",
   "name": "python",
   "nbconvert_exporter": "python",
   "pygments_lexer": "ipython3",
   "version": "3.6.1"
  }
 },
 "nbformat": 4,
 "nbformat_minor": 2
}
