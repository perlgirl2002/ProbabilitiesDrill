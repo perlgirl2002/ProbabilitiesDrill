{
 "cells": [
  {
   "cell_type": "code",
   "execution_count": null,
   "metadata": {
    "collapsed": true
   },
   "outputs": [],
   "source": [
    "DataSources"
   ]
  },
  {
   "cell_type": "markdown",
   "metadata": {},
   "source": [
    "Data Source: Amsterdam availability data scraped from AirBnB on December 24th. Question: What are the popular neighborhoods in Amsterdam?\n",
    "\n",
    "1.  Data is only for a single day\n",
    "2.  Date data was collected is on a major religious holiday that coincides with spikes in travel and therefore would skew availability data \n",
    "3.  Since the data was around a religious holiday, it is likely to represent travel to homes/family, not necessarily travel for pleasure, therefore skewing data away from \"popular\" neighborhoods.\n",
    "\n",
    "Data Source: Mental health services use on September 12, 2001 in San Francisco, CA and New York City, NY. Question: How do patterns of mental health service use vary between cities?\n",
    "1.  September 11, 2001 was a major event in American history.  Because of this disaster there would've been a significant apike in mental health services, certainly in NY but also other major cities.\n",
    "2.  The event date is likely to bias the entire survey.\n",
    "\n",
    "Data Source: Armenian Pub Survey. Question: What are the most common reasons Armenians visit local pubs?\n",
    "1.  Data is limited/small\n",
    "2.  Population bias to mostly students\n",
    "3.  Population bias to younger ages 18-22"
   ]
  }
 ],
 "metadata": {
  "kernelspec": {
   "display_name": "Python 3",
   "language": "python",
   "name": "python3"
  },
  "language_info": {
   "codemirror_mode": {
    "name": "ipython",
    "version": 3
   },
   "file_extension": ".py",
   "mimetype": "text/x-python",
   "name": "python",
   "nbconvert_exporter": "python",
   "pygments_lexer": "ipython3",
   "version": "3.6.1"
  }
 },
 "nbformat": 4,
 "nbformat_minor": 2
}
